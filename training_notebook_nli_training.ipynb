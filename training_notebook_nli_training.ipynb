{
 "cells": [
  {
   "cell_type": "code",
   "execution_count": 1,
   "metadata": {},
   "outputs": [],
   "source": [
    "from train_utils import grid_search, get_number_of_models, create_and_fit\n",
    "from configuration import Config"
   ]
  },
  {
   "cell_type": "code",
   "execution_count": 2,
   "metadata": {},
   "outputs": [],
   "source": [
    "vals = {\n",
    "    'nli' : [True],\n",
    "    'nli_pos_neg' : [[2,0]], #модели выдают 2 значения (верна гипотеза/неверна) или 3(верна гипотеза, неверна, нейтральна) в зависимости от модели\n",
    "    # и надо знать какой логит на каком месте у модели. \n",
    "    # Перый в списке - тот который отвечает за гипотеза неверна, второй - гипотеза верна\n",
    "    # это обычно можно понять из описания модели на сайте \n",
    "    # mDeBERTa-v3-base-xnli-multilingual-nli-2mil7 [2,0]\n",
    "    # multilingual-MiniLMv2-L6-mnli-xnli [2,0]\n",
    "    # distilbert-base-uncased-mnli [2,0]\n",
    "    # bart-large-mnli [0,2]\n",
    "    'nli_template' : ['[LABEL]'], #шаблон гипотезы, например '[LABEL]' или 'этот текст на тему [LABEL]'\n",
    "    'nli_labels' : [['депрессия', 'тревожное расстройство', \n",
    "                     'обсессивно-компульсивное расстройство', \n",
    "                     'Пограничное расстройство личности', \n",
    "                     'биполярное аффективное расстройство', 'невроз', 'паранойя', 'шизофрения']], #а здесь в списке указать сами лейблы\n",
    "    'strategy' : ['full'], #обучаем модель целиком, можно ещё только классификатор = 'classifier_only' или указать конкретные слои\n",
    "    'batch_size' : [32], #размер батча, 24 обычно влезает для моделей с 300-400 миллионами параметров\n",
    "    'n_epochs' : [10], #количество эпох\n",
    "    'opt' : ['AdamW'],\n",
    "    'test_size' : [0.3], #берем 30% для валидации\n",
    "    'val_size' : [0.5], #из них 50% для отложенной выборки \n",
    "    'scheduler' : [None],\n",
    "    'scheduler_fraction' : [0, 2],\n",
    "    'stratified' : ['class'],\n",
    "    #'weights' : ['resample'],\n",
    "    'lr' : [0.00001, 0.00005],\n",
    "    'clean' : [False],\n",
    "    #'nli_resample' : ['class', 'hypo', 'hypo+class']\n",
    "            }"
   ]
  },
  {
   "cell_type": "code",
   "execution_count": null,
   "metadata": {},
   "outputs": [
    {
     "name": "stdout",
     "output_type": "stream",
     "text": [
      "Logging will be stored at results_full/class/unfiltered_big/mDeBERTa-v3-base-xnli-multilingual-nli-2mil7/log.txt\n",
      "Results will be stored at results_full/class/unfiltered_big/mDeBERTa-v3-base-xnli-multilingual-nli-2mil7/results.pickle\n",
      "Detailed logging will be stored at results_full/class/unfiltered_big/mDeBERTa-v3-base-xnli-multilingual-nli-2mil7/detailed_log.txt\n",
      "Starting experiment no 1...\n",
      "Using cached data...\n",
      "(372168,) (372168,) (372168,)\n",
      "Shape of nli data = (372168, 3)\n",
      "Getting loaders...\n",
      "(79752,) (79752,) (79752,)\n",
      "Shape of nli data = (79752, 3)\n",
      "Initializing model...\n",
      "Using full strategy\n",
      "Training...\n"
     ]
    },
    {
     "data": {
      "application/vnd.jupyter.widget-view+json": {
       "model_id": "1a83fc58fbd747e89cc3ed93116993a6",
       "version_major": 2,
       "version_minor": 0
      },
      "text/plain": [
       "  0%|          | 0/11631 [00:00<?, ?it/s]"
      ]
     },
     "metadata": {},
     "output_type": "display_data"
    }
   ],
   "source": [
    "grid_search('/home/skoltsov/mDeBERTa-v3-base-xnli-multilingual-nli-2mil7', \n",
    "            'class', \n",
    "            vals, \n",
    "            save_every=2, \n",
    "            workspace = 'results_full', \n",
    "            name='unfiltered_big',\n",
    "            save_as_miner=True,\n",
    "            data='psycho_data_full.csv', \n",
    "           )"
   ]
  },
  {
   "cell_type": "code",
   "execution_count": null,
   "metadata": {},
   "outputs": [
    {
     "name": "stdout",
     "output_type": "stream",
     "text": [
      "Logging will be stored at results_full/class/unfiltered_big/distilbert-base-uncased-mnli/log.txt\n",
      "Results will be stored at results_full/class/unfiltered_big/distilbert-base-uncased-mnli/results.pickle\n",
      "Detailed logging will be stored at results_full/class/unfiltered_big/distilbert-base-uncased-mnli/detailed_log.txt\n",
      "Can't find results.pickle file! starting experiments from the begining...\n",
      "Starting experiment no 1...\n"
     ]
    },
    {
     "name": "stderr",
     "output_type": "stream",
     "text": [
      "The `xla_device` argument has been deprecated in v4.4.0 of Transformers. It is ignored and you can safely remove it from your `config.json` file.\n",
      "The `xla_device` argument has been deprecated in v4.4.0 of Transformers. It is ignored and you can safely remove it from your `config.json` file.\n",
      "The `xla_device` argument has been deprecated in v4.4.0 of Transformers. It is ignored and you can safely remove it from your `config.json` file.\n",
      "The `xla_device` argument has been deprecated in v4.4.0 of Transformers. It is ignored and you can safely remove it from your `config.json` file.\n"
     ]
    },
    {
     "name": "stdout",
     "output_type": "stream",
     "text": [
      "Using cached data...\n",
      "(372168,) (372168,) (372168,)\n",
      "Shape of nli data = (372168, 3)\n",
      "Getting loaders...\n",
      "(79752,) (79752,) (79752,)\n",
      "Shape of nli data = (79752, 3)\n",
      "Initializing model...\n",
      "Using full strategy\n",
      "Training...\n"
     ]
    },
    {
     "data": {
      "application/vnd.jupyter.widget-view+json": {
       "model_id": "e0befd828e4a4efbbcda6f8574580861",
       "version_major": 2,
       "version_minor": 0
      },
      "text/plain": [
       "  0%|          | 0/11631 [00:00<?, ?it/s]"
      ]
     },
     "metadata": {},
     "output_type": "display_data"
    }
   ],
   "source": [
    "grid_search('/home/skoltsov/distilbert-base-uncased-mnli',\n",
    "            'class', \n",
    "            vals, \n",
    "            save_every=2, \n",
    "            workspace = 'results_full', \n",
    "            name='unfiltered_big',\n",
    "            save_as_miner=True,\n",
    "            data='psycho_data_full.csv',\n",
    "           )"
   ]
  },
  {
   "cell_type": "code",
   "execution_count": null,
   "metadata": {},
   "outputs": [],
   "source": [
    "grid_search('/home/skoltsov/multilingual-MiniLMv2-L6-mnli-xnli',\n",
    "            'class', \n",
    "            vals, \n",
    "            save_every=2, \n",
    "            workspace = 'results_full', \n",
    "            name='unfiltered_big',\n",
    "            save_as_miner=True,\n",
    "            data='psycho_data_full.csv', \n",
    "           )"
   ]
  },
  {
   "cell_type": "code",
   "execution_count": null,
   "metadata": {},
   "outputs": [
    {
     "name": "stdout",
     "output_type": "stream",
     "text": [
      "Logging will be stored at results_full/class/unfiltered_big/DeBERTa-v3-base-mnli-fever-anli/log.txt\n",
      "Results will be stored at results_full/class/unfiltered_big/DeBERTa-v3-base-mnli-fever-anli/results.pickle\n",
      "Detailed logging will be stored at results_full/class/unfiltered_big/DeBERTa-v3-base-mnli-fever-anli/detailed_log.txt\n",
      "Starting experiment no 1...\n",
      "Using cached data...\n",
      "(372168,) (372168,) (372168,)\n",
      "Shape of nli data = (372168, 3)\n",
      "Getting loaders...\n",
      "(79752,) (79752,) (79752,)\n",
      "Shape of nli data = (79752, 3)\n",
      "Initializing model...\n",
      "Using full strategy\n",
      "Training...\n"
     ]
    },
    {
     "data": {
      "application/vnd.jupyter.widget-view+json": {
       "model_id": "fc8e844ed01b4b869f03bc3ea1eb10e0",
       "version_major": 2,
       "version_minor": 0
      },
      "text/plain": [
       "  0%|          | 0/11631 [00:00<?, ?it/s]"
      ]
     },
     "metadata": {},
     "output_type": "display_data"
    }
   ],
   "source": [
    "vals['nli_pos_neg'] = [[0,2]]\n",
    "grid_search('/home/skoltsov/DeBERTa-v3-base-mnli-fever-anli',\n",
    "            'class', \n",
    "            vals, \n",
    "            save_every=2, \n",
    "            workspace = 'results_full', \n",
    "            name='unfiltered_big',\n",
    "            save_as_miner=True,\n",
    "            data='psycho_data_full.csv',\n",
    "           )"
   ]
  },
  {
   "cell_type": "code",
   "execution_count": null,
   "metadata": {},
   "outputs": [],
   "source": []
  }
 ],
 "metadata": {
  "kernelspec": {
   "display_name": "Python 3 (ipykernel)",
   "language": "python",
   "name": "python3"
  },
  "language_info": {
   "codemirror_mode": {
    "name": "ipython",
    "version": 3
   },
   "file_extension": ".py",
   "mimetype": "text/x-python",
   "name": "python",
   "nbconvert_exporter": "python",
   "pygments_lexer": "ipython3",
   "version": "3.7.7"
  }
 },
 "nbformat": 4,
 "nbformat_minor": 4
}
